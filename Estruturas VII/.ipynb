{
 "cells": [
  {
   "cell_type": "markdown",
   "metadata": {},
   "source": [
    "## <h3 align=\"center\"> Determinação da Curva de Equilíbrio Força-Deslocamento Usando o Método Arc-Length </h3>"
   ]
  },
  {
   "cell_type": "markdown",
   "metadata": {},
   "source": [
    "**_Disciplina:_** Tópicos em Engenharia de Estruturas VII - Introdução à Análise Não Linear de Estruturas.\n"
   ]
  },
  {
   "cell_type": "markdown",
   "metadata": {},
   "source": [
    "### **1. _Introdução_**\n"
   ]
  },
  {
   "cell_type": "markdown",
   "metadata": {},
   "source": [
    "<p align=\"justify\"> O estudo de estruturas submetidas a grandes deslocamentos requer métodos numéricos robustos capazes de rastrear corretamente o caminho de equilíbrio, mesmo quando há perda de rigidez ou mudanças de comportamento, como o pós-pico em estruturas instáveis. O método do comprimento de arco (Arc-Length) é amplamente utilizado na engenharia estrutural para esse fim, pois permite a obtenção da curva completa força-deslocamento, inclusive após o ponto de instabilidade (Crisfield, 1991).\n",
    "\n",
    "Esta atividade tem como objetivo aplicar tal método para encontrar a relação entre o carregamento distribuído  e o deslocamento axial na extremidade de uma barra, mantendo parâmetros constantes como **_E0 = 100,000_**, **_S = 1_**, **_L = 100_**, **_n = 200_**, **_P = 1_**  e tolerância de **0,001**.</p>"
   ]
  },
  {
   "cell_type": "markdown",
   "metadata": {},
   "source": [
    "### **2. _Metodologia e Formulação_**\n",
    "#### **2.1 _Modelo do Problema_**\n"
   ]
  },
  {
   "cell_type": "markdown",
   "metadata": {},
   "source": [
    "<p align=\"justify\"> Considera-se uma barra submetida a um carregamento distribuído , com rigidez dependente dos deslocamentos. O sistema é resolvido numericamente com base em uma formulação não linear da rigidez, utilizando o método do comprimento de arco (Reddy, 2019).</p>"
   ]
  },
  {
   "cell_type": "markdown",
   "metadata": {},
   "source": [
    "#### **2.2 _Método do Comprimento de Arco_**"
   ]
  },
  {
   "cell_type": "markdown",
   "metadata": {},
   "source": [
    "<p align=\"justify\"> O método Arc-Length impõe uma restrição adicional ao sistema:\n"
   ]
  },
  {
   "cell_type": "markdown",
   "metadata": {},
   "source": [
    "**(Δu)<sup>T</sup>. (Δu) + α<sup>2</sup>Δλ<sup>2</sup> = Δs<sup>2</sup>**"
   ]
  },
  {
   "cell_type": "markdown",
   "metadata": {},
   "source": [
    "onde:\n"
   ]
  },
  {
   "cell_type": "markdown",
   "metadata": {},
   "source": [
    "- **Δu**: incremento de deslocamento\n",
    "\n",
    "- **Δλ**: incremento do fator de carga\n",
    "\n",
    "- **Δs**: incremento de arco (escala do passo)\n",
    "\n",
    "- **α**: parâmetro de escalonamento"
   ]
  },
  {
   "cell_type": "markdown",
   "metadata": {},
   "source": [
    "Esse método permite rastrear a curva equilíbrio mesmo após pontos de instabilidade ou mudança de trajetória, superando as limitações de métodos incrementais convencionais (Bathe, 1996).</p>"
   ]
  },
  {
   "cell_type": "markdown",
   "metadata": {},
   "source": [
    "#### **2.3 _Parâmetros Utilizados_**"
   ]
  },
  {
   "cell_type": "markdown",
   "metadata": {},
   "source": [
    "- Módulo de elasticidade: **_E0 = 100,000_**\n",
    "\n",
    "- Área da seção: **_S = 1_**\n",
    "\n",
    "- Comprimento da barra: **_L = 100_**\n",
    "\n",
    "- Parâmetro de penalidade: **_n = 200_**\n",
    "\n",
    "- Carga pontual: **_P = 1_**\n",
    "\n",
    "- Tolerância de convergência: **_tol = 0.001_**\n",
    "\n",
    "- Passo de arco: **Δs = 0.05**\n",
    "\n",
    "- Número máximo de passos: 200"
   ]
  },
  {
   "cell_type": "markdown",
   "metadata": {},
   "source": [
    "### **3 _Implementação Computacional_**\n",
    "#### **3.1 _Trechos Principais do Código_**"
   ]
  },
  {
   "cell_type": "code",
   "execution_count": null,
   "metadata": {},
   "outputs": [],
   "source": [
    "def calcular_matriz_rigidez(u1, u2, u3, E0, S, L, n):\n",
    "    factor = (2 * E0 * S) / L\n",
    "    term = n * 2 / L\n",
    "    return factor * np.array([\n",
    "        [1, 0, 0],\n",
    "        [0, 2 - term * (u3 - u1), -1 + term * (u3 - u2)],\n",
    "        [0, -1 + term * (u3 - u2), 1 - term * (u3 - u2)]\n",
    "    ])"
   ]
  },
  {
   "cell_type": "markdown",
   "metadata": {},
   "source": [
    "#### **3.2 _Algoritmo de Arc-Length_**"
   ]
  },
  {
   "cell_type": "markdown",
   "metadata": {},
   "source": [
    "<p align=\"justify\"> A cada passo, o sistema resolve:"
   ]
  },
  {
   "cell_type": "markdown",
   "metadata": {},
   "source": [
    "**K(u) . Δu = λ . F**"
   ]
  },
  {
   "cell_type": "markdown",
   "metadata": {},
   "source": [
    "E aplica a restrição de arco. Isso foi implementado em uma rotina de Newton-Raphson adaptada (Crisfield, 1991).</p>\n"
   ]
  },
  {
   "cell_type": "markdown",
   "metadata": {},
   "source": [
    "### **4 _Resultados e Discussões_**\n"
   ]
  },
  {
   "cell_type": "markdown",
   "metadata": {},
   "source": [
    "<p align=\"justify\">O código gerou a seguinte curva de equilíbrio:"
   ]
  },
  {
   "cell_type": "markdown",
   "metadata": {},
   "source": [
    "<div align=\"left\"><img src=\"Curva_de_Equilibrio.png\" width=\"400px\", height=\"350px\"></div>"
   ]
  },
  {
   "cell_type": "markdown",
   "metadata": {},
   "source": [
    "A curva mostra o comportamento típico com região de instabilidade, onde o deslocamento aumenta mesmo com redução de carga. Esse fenômeno não poderia ser capturado com métodos tradicionais.\n",
    "A convergência foi alcançada para todos os passos com controle de passo de arco adaptativo. Houve estabilização numérica mesmo após o ponto de máximo da curva.</p>"
   ]
  },
  {
   "cell_type": "markdown",
   "metadata": {},
   "source": [
    "### **5 _Conclusão_**"
   ]
  },
  {
   "cell_type": "markdown",
   "metadata": {},
   "source": [
    "<p align=\"justify\">O método Arc-Length mostrou-se eficaz para traçar a curva completa força-deslocamento em uma barra com rigidez não linear. A técnica permite superar limitações de métodos incrementais simples, sendo apropriada para problemas com perda de estabilidade. O uso computacional do Python proporcionou uma visualização clara e controle total dos parâmetros.</p>\n",
    "\n",
    "### **6 _Referências_**"
   ]
  },
  {
   "cell_type": "markdown",
   "metadata": {},
   "source": [
    "```ruby\n",
    "BATHE, K. J. Finite Element Procedures. Prentice Hall, 1996.\n",
    "```\n",
    "```ruby\n",
    "CRISFIELD, M. A. Non-linear Finite Element Analysis of Solids and Structures. Wiley, 1991.\n",
    "```\n",
    "```ruby\n",
    "REDDY, J. N. An Introduction to Nonlinear Finite Element Analysis. Oxford University Press, 2019.\n",
    "```\n",
    "```ruby\n",
    "UNIVERSIDADE XYZ. Notas de aula da disciplina de Estruturas II. Prof. Nome do Docente, 2025.\n",
    "```\n"
   ]
  }
 ],
 "metadata": {
  "kernelspec": {
   "display_name": "Python 3",
   "language": "python",
   "name": "python3"
  },
  "language_info": {
   "name": "python",
   "version": "3.12.9"
  }
 },
 "nbformat": 4,
 "nbformat_minor": 2
}
